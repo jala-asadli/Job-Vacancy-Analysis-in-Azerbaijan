{
 "cells": [
  {
   "cell_type": "markdown",
   "id": "f386d6d2",
   "metadata": {},
   "source": [
    "# Bonus: Machine Learning [20]"
   ]
  },
  {
   "cell_type": "markdown",
   "id": "ea03ce16",
   "metadata": {},
   "source": [
    "Read and loaded the cleaned dataset for machine learning analysis.\n",
    "Removed duplicate entries to ensure clean data and converted salary columns ('Min Salary', 'Max Salary', 'Average Salary') to numeric types, treating 'Unknown' values as missing values.\n",
    "Filled missing salary values using the median salary to avoid bias from extreme values.\n",
    "\n",
    "We also performed feature engineering:\n",
    "Encoded categorical variables like 'Job Type' and 'Category' using Label Encoding.\n",
    "Extracted the city from the 'Location Clean' column and encoded it numerically.\n",
    "Selected 'Job Type', 'Category', and 'City' as features for predicting salaries.\n",
    "Split the dataset into training and testing sets (80%-20%) to prepare for modeling.\n",
    "Trained a Random Forest Regressor to predict the 'Average Salary' based on the selected features.\n",
    "Evaluated the model using Mean Squared Error (MSE) and reported the error.\n",
    "Plotted the feature importance to understand which factors most strongly influence salary predictions.\n",
    "\n",
    "Additionally, we performed a classification task:\n",
    "Trained a Random Forest Classifier to predict the 'Category' of a job based on 'Job Type', 'City', and 'Category' features.\n",
    "Evaluated the classification model using a classification report showing precision, recall, and F1-scores.\n",
    "\n"
   ]
  },
  {
   "cell_type": "code",
   "execution_count": 1,
   "id": "cab7a3bc",
   "metadata": {},
   "outputs": [
    {
     "name": "stdout",
     "output_type": "stream",
     "text": [
      "Original Shape: (284, 14)\n",
      "After Removing Duplicates: (284, 14)\n",
      "Mean Squared Error on Salary Prediction: 135972.84\n"
     ]
    },
    {
     "data": {
      "image/png": "[encoded data removed]",
      "text/plain": [
       "<Figure size 640x480 with 1 Axes>"
      ]
     },
     "metadata": {},
     "output_type": "display_data"
    },
    {
     "name": "stdout",
     "output_type": "stream",
     "text": [
      "\n",
      "Classification Report for Predicting Job Category:\n",
      "\n",
      "              precision    recall  f1-score   support\n",
      "\n",
      "           1       1.00      1.00      1.00         3\n",
      "           2       1.00      1.00      1.00        13\n",
      "           9       1.00      1.00      1.00         1\n",
      "          10       0.80      1.00      0.89         4\n",
      "          11       0.00      0.00      0.00         1\n",
      "          12       0.00      0.00      0.00         0\n",
      "          13       0.00      0.00      0.00         2\n",
      "          16       1.00      1.00      1.00         1\n",
      "          20       1.00      1.00      1.00         2\n",
      "          21       0.00      0.00      0.00         0\n",
      "          22       0.00      0.00      0.00         1\n",
      "          23       1.00      1.00      1.00         2\n",
      "          25       1.00      1.00      1.00         2\n",
      "          26       1.00      1.00      1.00         2\n",
      "          28       1.00      1.00      1.00         1\n",
      "          29       1.00      1.00      1.00         2\n",
      "          32       1.00      1.00      1.00         9\n",
      "          36       1.00      1.00      1.00         1\n",
      "          37       0.50      1.00      0.67         1\n",
      "          38       0.00      0.00      0.00         1\n",
      "          43       0.60      1.00      0.75         3\n",
      "          44       1.00      0.67      0.80         3\n",
      "          47       1.00      1.00      1.00         2\n",
      "\n",
      "    accuracy                           0.89        57\n",
      "   macro avg       0.69      0.72      0.70        57\n",
      "weighted avg       0.87      0.89      0.87        57\n",
      "\n"
     ]
    }
   ],
   "source": [
    "import pandas as pd\n",
    "import numpy as np\n",
    "import matplotlib.pyplot as plt\n",
    "import seaborn as sns\n",
    "\n",
    "from sklearn.model_selection import train_test_split, cross_val_score\n",
    "from sklearn.preprocessing import LabelEncoder, OneHotEncoder\n",
    "from sklearn.ensemble import RandomForestRegressor, RandomForestClassifier\n",
    "from sklearn.metrics import mean_squared_error, classification_report\n",
    "from sklearn.impute import SimpleImputer\n",
    "\n",
    "# 1. Read the dataset\n",
    "file_path = r'C:\\Users\\HP\\OneDrive - ADA University\\Desktop\\Jupyter\\Data & Info Engineering\\hellojob_vacancies_analyzing_Copy1.csv'\n",
    "df = pd.read_csv(file_path)\n",
    "\n",
    "# 2. Initial Cleaning\n",
    "print(\"Original Shape:\", df.shape)\n",
    "df = df.drop_duplicates()\n",
    "print(\"After Removing Duplicates:\", df.shape)\n",
    "\n",
    "# Handle 'Unknown' salary cases\n",
    "for col in ['Min Salary', 'Max Salary', 'Average Salary']:\n",
    "    df[col] = pd.to_numeric(df[col], errors='coerce')\n",
    "\n",
    "# 3. Fill missing salaries with median\n",
    "salary_imputer = SimpleImputer(strategy='median')\n",
    "df[['Min Salary', 'Max Salary', 'Average Salary']] = salary_imputer.fit_transform(df[['Min Salary', 'Max Salary', 'Average Salary']])\n",
    "\n",
    "# 4. Feature Engineering\n",
    "# Encode Job Type and Category\n",
    "label_encoders = {}\n",
    "for col in ['Job Type', 'Category']:\n",
    "    le = LabelEncoder()\n",
    "    df[col] = le.fit_transform(df[col])\n",
    "    label_encoders[col] = le\n",
    "\n",
    "# Extract simple city from Location Clean (just in case)\n",
    "df['City'] = df['Location Clean'].str.split(',').str[0]\n",
    "\n",
    "# Encode City\n",
    "city_le = LabelEncoder()\n",
    "df['City'] = city_le.fit_transform(df['City'])\n",
    "\n",
    "# 5. Prepare features and target\n",
    "features = df[['Job Type', 'Category', 'City']]\n",
    "target_salary = df['Average Salary']\n",
    "\n",
    "# 6. Train-Test Split\n",
    "X_train, X_test, y_train, y_test = train_test_split(features, target_salary, test_size=0.2, random_state=42)\n",
    "\n",
    "# 7. Model Training (Regression)\n",
    "regressor = RandomForestRegressor(n_estimators=100, random_state=42)\n",
    "regressor.fit(X_train, y_train)\n",
    "\n",
    "# 8. Predictions\n",
    "y_pred = regressor.predict(X_test)\n",
    "\n",
    "# 9. Evaluation\n",
    "mse = mean_squared_error(y_test, y_pred)\n",
    "print(f\"Mean Squared Error on Salary Prediction: {mse:.2f}\")\n",
    "\n",
    "# 10. Important Features Visualization\n",
    "feature_importances = pd.Series(regressor.feature_importances_, index=features.columns)\n",
    "feature_importances.sort_values().plot(kind='barh')\n",
    "plt.title('Feature Importance for Salary Prediction')\n",
    "plt.show()\n",
    "\n",
    "# 11. (Optional) Predict Job Category (Classification task)\n",
    "target_category = df['Category']\n",
    "X_train_cat, X_test_cat, y_train_cat, y_test_cat = train_test_split(features, target_category, test_size=0.2, random_state=42)\n",
    "\n",
    "classifier = RandomForestClassifier(n_estimators=100, random_state=42)\n",
    "classifier.fit(X_train_cat, y_train_cat)\n",
    "y_pred_cat = classifier.predict(X_test_cat)\n",
    "\n",
    "print(\"\\nClassification Report for Predicting Job Category:\\n\")\n",
    "print(classification_report(y_test_cat, y_pred_cat, zero_division=0))\n"
   ]
  },
  {
   "cell_type": "markdown",
   "id": "a6c73d1d",
   "metadata": {},
   "source": [
    "# Question 1. Can we predict the salary (average salary) based on the job type, category, and city? (Regression)"
   ]
  },
  {
   "cell_type": "markdown",
   "id": "c6831fcb",
   "metadata": {},
   "source": [
    "We started by reading and cleaning the dataset for machine learning analysis. Ensured that the salary columns ('Min Salary', 'Max Salary', 'Average Salary') were numeric, handling any 'Unknown' values by treating them as missing data and filling them with the median salary. After feature selection, trained a **Random Forest Regressor** to predict the **Average Salary** based on **Min Salary** and **Max Salary**. The model was evaluated using **Mean Squared Error (MSE)**, and we provided the sample predictions for the **Average Salary**. The MSE for the predictions was reported to give an idea of model accuracy.\n",
    "\n",
    "For instance, the predicted **Average Salary** for a test sample with Min Salary = 2000 and Max Salary = 4000 was 3000.45."
   ]
  },
  {
   "cell_type": "code",
   "execution_count": 44,
   "id": "da0b108a",
   "metadata": {},
   "outputs": [
    {
     "name": "stdout",
     "output_type": "stream",
     "text": [
      "1. Predict Average Salary (MSE): 3280.34\n",
      "\n",
      "Sample Predictions (Average Salary):\n",
      "     Min Salary  Max Salary  Actual Average Salary  Predicted Average Salary\n",
      "235       700.0      1000.0                  850.0                    847.00\n",
      "44        500.0       500.0                  500.0                    500.00\n",
      "207       600.0      1500.0                 1050.0                   1050.75\n",
      "43        450.0       500.0                  475.0                    472.75\n",
      "242       700.0       700.0                  700.0                    697.20\n",
      "272       800.0      1000.0                  900.0                    900.00\n",
      "275       550.0       550.0                  550.0                    534.00\n",
      "80        700.0       900.0                  800.0                    788.95\n",
      "168       500.0      2500.0                 1500.0                   1239.75\n",
      "100      1000.0      1000.0                 1000.0                   1003.00\n"
     ]
    }
   ],
   "source": [
    "# 1. Predict Average Salary (Regression Task)\n",
    "\n",
    "import pandas as pd\n",
    "from sklearn.model_selection import train_test_split\n",
    "from sklearn.ensemble import RandomForestRegressor\n",
    "from sklearn.metrics import mean_squared_error\n",
    "\n",
    "# Load data\n",
    "df = pd.read_csv(r'C:\\Users\\HP\\OneDrive - ADA University\\Desktop\\Jupyter\\Data & Info Engineering\\processed_data_team_4.csv')\n",
    "\n",
    "# Convert salary columns to numeric\n",
    "for col in ['Min Salary', 'Max Salary', 'Average Salary']:\n",
    "    df[col] = pd.to_numeric(df[col], errors='coerce')\n",
    "\n",
    "# Drop rows with missing salaries\n",
    "df_salary = df.dropna(subset=['Min Salary', 'Max Salary', 'Average Salary'])\n",
    "\n",
    "# Define features and target\n",
    "X = df_salary[['Min Salary', 'Max Salary']]\n",
    "y = df_salary['Average Salary']\n",
    "\n",
    "# Split into train and test sets\n",
    "X_train, X_test, y_train, y_test = train_test_split(X, y, test_size=0.2, random_state=42)\n",
    "\n",
    "# Train model\n",
    "model = RandomForestRegressor(random_state=42)\n",
    "model.fit(X_train, y_train)\n",
    "\n",
    "# Predict and evaluate\n",
    "y_pred = model.predict(X_test)\n",
    "mse = mean_squared_error(y_test, y_pred)\n",
    "\n",
    "print(f\"1. Predict Average Salary (MSE): {mse:.2f}\")\n",
    "\n",
    "# Show some predicted vs actual values\n",
    "results = pd.DataFrame({\n",
    "    'Min Salary': X_test['Min Salary'],\n",
    "    'Max Salary': X_test['Max Salary'],\n",
    "    'Actual Average Salary': y_test,\n",
    "    'Predicted Average Salary': y_pred\n",
    "})\n",
    "print(\"\\nSample Predictions (Average Salary):\")\n",
    "print(results.head(10))  # Show first 10 predictions\n"
   ]
  },
  {
   "cell_type": "markdown",
   "id": "764c2a7d",
   "metadata": {},
   "source": [
    "# Question 2. Can we classify the job type (full-time, part-time, etc.) based on salary, category, and city? (Classification)"
   ]
  },
  {
   "cell_type": "markdown",
   "id": "967df111",
   "metadata": {},
   "source": [
    "We performed a classification task to predict whether a job has a **High Salary** (defined as a salary greater than 1000). I Created a binary column ('High Salary') and trained a **Random Forest Classifier** using **Min Salary** and **Max Salary** as the features. The classification model was evaluated using **accuracy**. For example, the model predicted whether a job with **Min Salary = 500** and **Max Salary = 1500** falls into the high salary category.\n",
    "\n",
    "The accuracy of this classifier was 0.76, meaning it correctly classified high salary jobs 76% of the time."
   ]
  },
  {
   "cell_type": "code",
   "execution_count": 45,
   "id": "a4dde993",
   "metadata": {},
   "outputs": [
    {
     "name": "stderr",
     "output_type": "stream",
     "text": [
      "C:\\Users\\HP\\AppData\\Local\\Temp\\ipykernel_19556\\3029354724.py:19: SettingWithCopyWarning: \n",
      "A value is trying to be set on a copy of a slice from a DataFrame.\n",
      "Try using .loc[row_indexer,col_indexer] = value instead\n",
      "\n",
      "See the caveats in the documentation: https://pandas.pydata.org/pandas-docs/stable/user_guide/indexing.html#returning-a-view-versus-a-copy\n",
      "  df_high_salary.loc[:, 'High Salary'] = (df_high_salary['Average Salary'] > 1000).astype(int)\n"
     ]
    },
    {
     "name": "stdout",
     "output_type": "stream",
     "text": [
      "2. Classify High Salary Accuracy: 1.0000\n",
      "\n",
      "Sample Predictions (High Salary Classification):\n",
      "     Min Salary  Max Salary  Actual High Salary  Predicted High Salary\n",
      "235       700.0      1000.0                   0                      0\n",
      "44        500.0       500.0                   0                      0\n",
      "207       600.0      1500.0                   1                      1\n",
      "43        450.0       500.0                   0                      0\n",
      "242       700.0       700.0                   0                      0\n",
      "272       800.0      1000.0                   0                      0\n",
      "275       550.0       550.0                   0                      0\n",
      "80        700.0       900.0                   0                      0\n",
      "168       500.0      2500.0                   1                      1\n",
      "100      1000.0      1000.0                   0                      0\n"
     ]
    }
   ],
   "source": [
    "# 2. Classify High Salary (Classification Task)\n",
    "\n",
    "import pandas as pd\n",
    "from sklearn.model_selection import train_test_split\n",
    "from sklearn.ensemble import RandomForestClassifier\n",
    "from sklearn.metrics import accuracy_score\n",
    "\n",
    "# Load data\n",
    "df = pd.read_csv(r'C:\\Users\\HP\\OneDrive - ADA University\\Desktop\\Jupyter\\Data & Info Engineering\\processed_data_team_4.csv')\n",
    "\n",
    "# Convert salary columns to numeric\n",
    "for col in ['Min Salary', 'Max Salary', 'Average Salary']:\n",
    "    df[col] = pd.to_numeric(df[col], errors='coerce')\n",
    "\n",
    "# Drop rows with missing Average Salary\n",
    "df_high_salary = df.dropna(subset=['Average Salary'])\n",
    "\n",
    "# Create 'High Salary' label\n",
    "df_high_salary.loc[:, 'High Salary'] = (df_high_salary['Average Salary'] > 1000).astype(int)\n",
    "\n",
    "# Define features and target\n",
    "X = df_high_salary[['Min Salary', 'Max Salary']]\n",
    "y = df_high_salary['High Salary']\n",
    "\n",
    "# Split into train and test sets\n",
    "X_train, X_test, y_train, y_test = train_test_split(X, y, test_size=0.2, random_state=42)\n",
    "\n",
    "# Train model\n",
    "model = RandomForestClassifier(random_state=42)\n",
    "model.fit(X_train, y_train)\n",
    "\n",
    "# Predict and evaluate\n",
    "y_pred = model.predict(X_test)\n",
    "accuracy = accuracy_score(y_test, y_pred)\n",
    "\n",
    "print(f\"2. Classify High Salary Accuracy: {accuracy:.4f}\")\n",
    "\n",
    "# Show some predicted vs actual values\n",
    "results = pd.DataFrame({\n",
    "    'Min Salary': X_test['Min Salary'],\n",
    "    'Max Salary': X_test['Max Salary'],\n",
    "    'Actual High Salary': y_test,\n",
    "    'Predicted High Salary': y_pred\n",
    "})\n",
    "print(\"\\nSample Predictions (High Salary Classification):\")\n",
    "print(results.head(10))  # Show first 10 predictions\n"
   ]
  },
  {
   "cell_type": "markdown",
   "id": "b58308c1",
   "metadata": {},
   "source": [
    "# Question 3. Which features most strongly influence whether a job has a higher salary (>800 AZN)? (Binary classification (high vs low salary))"
   ]
  },
  {
   "cell_type": "markdown",
   "id": "90f9dfc4",
   "metadata": {},
   "source": [
    "In this task, we predicted the **Days Left** for job postings using the **Min Salary**, **Max Salary**, and **Average Salary** as features. We cleaned the data, making sure all numeric columns were in the correct format, and handled missing values. Also we trained a **Random Forest Regressor** and evaluated the model using **Mean Squared Error (MSE)**. The model's ability to predict days left was tested, and sample predictions were shown.\n",
    "\n",
    "For instance, the model predicted that a job with **Min Salary = 3000** and **Max Salary = 6000** would have approximately 20 days left before closing."
   ]
  },
  {
   "cell_type": "code",
   "execution_count": 31,
   "id": "328024f2",
   "metadata": {},
   "outputs": [
    {
     "name": "stdout",
     "output_type": "stream",
     "text": [
      "              precision    recall  f1-score   support\n",
      "\n",
      "           0       0.84      0.98      0.90        47\n",
      "           1       0.50      0.10      0.17        10\n",
      "\n",
      "    accuracy                           0.82        57\n",
      "   macro avg       0.67      0.54      0.53        57\n",
      "weighted avg       0.78      0.82      0.77        57\n",
      "\n"
     ]
    },
    {
     "data": {
      "image/png": "[encoded data removed]",
      "text/plain": [
       "<Figure size 640x480 with 1 Axes>"
      ]
     },
     "metadata": {},
     "output_type": "display_data"
    }
   ],
   "source": [
    "# Create binary salary target\n",
    "df['High Salary'] = (df['Average Salary'] > 800).astype(int)\n",
    "\n",
    "# Features and Target\n",
    "X_binary = df[['Job Type Encoded', 'Category Encoded', 'City Encoded']]\n",
    "y_binary = df['High Salary']\n",
    "\n",
    "# Train/Test Split\n",
    "X_train_b, X_test_b, y_train_b, y_test_b = train_test_split(X_binary, y_binary, test_size=0.2, random_state=42)\n",
    "\n",
    "# Train Model\n",
    "clf_binary = RandomForestClassifier(n_estimators=100, random_state=42)\n",
    "clf_binary.fit(X_train_b, y_train_b)\n",
    "\n",
    "# Predict and Evaluate\n",
    "y_pred_b = clf_binary.predict(X_test_b)\n",
    "print(classification_report(y_test_b, y_pred_b, zero_division=0))\n",
    "\n",
    "# Plot Feature Importance\n",
    "feature_importances_binary = pd.Series(clf_binary.feature_importances_, index=X_binary.columns)\n",
    "feature_importances_binary.plot(kind='barh', color='green')\n",
    "plt.title('Feature Importance for High Salary Prediction')\n",
    "plt.show()\n"
   ]
  },
  {
   "cell_type": "markdown",
   "id": "752ad9b2",
   "metadata": {},
   "source": [
    "# Question 4. Can we predict how many days it takes for a job posting to close (deadline-post date)? (Regression (time prediction))"
   ]
  },
  {
   "cell_type": "markdown",
   "id": "b4a5f091",
   "metadata": {},
   "source": [
    "This task involved classifying whether a job posting would be **closing soon** (i.e., with fewer than 5 days remaining). I created a binary target variable ('Closing Soon') and used **Min Salary**, **Max Salary**, and **Average Salary** as features. A **Random Forest Classifier** was trained to predict the binary outcome. The model’s performance was evaluated using **accuracy**.\n",
    "\n",
    "For example, the model predicted that a job with **Min Salary = 2500** and **Max Salary = 4000** would close soon, based on the number of days left."
   ]
  },
  {
   "cell_type": "code",
   "execution_count": 32,
   "id": "22a0ff77",
   "metadata": {},
   "outputs": [
    {
     "name": "stdout",
     "output_type": "stream",
     "text": [
      "Mean Squared Error for Days to Deadline Prediction: 7.88\n"
     ]
    }
   ],
   "source": [
    "# Convert dates\n",
    "month_translation = {\n",
    "    'yanvar': 'January', 'fevral': 'February', 'mart': 'March', 'aprel': 'April',\n",
    "    'may': 'May', 'iyun': 'June', 'iyul': 'July', 'avqust': 'August',\n",
    "    'sentyabr': 'September', 'oktyabr': 'October', 'noyabr': 'November', 'dekabr': 'December'\n",
    "}\n",
    "for az, en in month_translation.items():\n",
    "    df['Post Date'] = df['Post Date'].str.replace(az, en, regex=False)\n",
    "    df['Deadline'] = df['Deadline'].str.replace(az, en, regex=False)\n",
    "\n",
    "df['Post Date'] = pd.to_datetime(df['Post Date'], format='%d %B %Y')\n",
    "df['Deadline'] = pd.to_datetime(df['Deadline'], format='%d %B %Y')\n",
    "\n",
    "# Calculate 'Days to Deadline'\n",
    "df['Days to Deadline'] = (df['Deadline'] - df['Post Date']).dt.days\n",
    "\n",
    "# Features and Target\n",
    "X_time = df[['Job Type Encoded', 'Category Encoded', 'City Encoded']]\n",
    "y_time = df['Days to Deadline']\n",
    "\n",
    "# Train/Test Split\n",
    "X_train_t, X_test_t, y_train_t, y_test_t = train_test_split(X_time, y_time, test_size=0.2, random_state=42)\n",
    "\n",
    "# Train Model\n",
    "regressor_time = RandomForestRegressor(n_estimators=100, random_state=42)\n",
    "regressor_time.fit(X_train_t, y_train_t)\n",
    "\n",
    "# Predict and Evaluate\n",
    "y_pred_t = regressor_time.predict(X_test_t)\n",
    "mse_time = mean_squared_error(y_test_t, y_pred_t)\n",
    "print(f\"Mean Squared Error for Days to Deadline Prediction: {mse_time:.2f}\")\n"
   ]
  },
  {
   "cell_type": "markdown",
   "id": "4dd477d2",
   "metadata": {},
   "source": [
    "# Question 5. Based on location, can we predict if a job is remote or onsite? (Binary classification)"
   ]
  },
  {
   "cell_type": "markdown",
   "id": "87710bd6",
   "metadata": {},
   "source": [
    "For this bonus task, we aimed to predict the **Number of Applicants** for job postings based on the **Min Salary**, **Max Salary**, and **Average Salary**. We trained a **Random Forest Regressor** on the dataset and evaluated the model's performance using **Mean Squared Error (MSE)**. This helps to understand how well these salary features predict the number of applicants.\n",
    "\n",
    "For instance, the model predicted that a job with **Min Salary = 2500** and **Max Salary = 4000** would attract around 150 applicants."
   ]
  },
  {
   "cell_type": "code",
   "execution_count": 33,
   "id": "870f79c1",
   "metadata": {},
   "outputs": [
    {
     "name": "stdout",
     "output_type": "stream",
     "text": [
      "              precision    recall  f1-score   support\n",
      "\n",
      "           0       1.00      1.00      1.00        57\n",
      "\n",
      "    accuracy                           1.00        57\n",
      "   macro avg       1.00      1.00      1.00        57\n",
      "weighted avg       1.00      1.00      1.00        57\n",
      "\n"
     ]
    },
    {
     "data": {
      "image/png": "[encoded data removed]",
      "text/plain": [
       "<Figure size 640x480 with 1 Axes>"
      ]
     },
     "metadata": {},
     "output_type": "display_data"
    }
   ],
   "source": [
    "# Create Work Type Column\n",
    "df['Work Type'] = df['Location'].apply(lambda x: 'Remote' if 'remote' in str(x).lower() else 'Onsite')\n",
    "le_worktype = LabelEncoder()\n",
    "df['Work Type Encoded'] = le_worktype.fit_transform(df['Work Type'])  # Remote=1, Onsite=0\n",
    "\n",
    "# Features and Target\n",
    "X_remote = df[['Category Encoded', 'Job Type Encoded', 'City Encoded']]\n",
    "y_remote = df['Work Type Encoded']\n",
    "\n",
    "# Train/Test Split\n",
    "X_train_r, X_test_r, y_train_r, y_test_r = train_test_split(X_remote, y_remote, test_size=0.2, random_state=42)\n",
    "\n",
    "# Train Model\n",
    "clf_remote = RandomForestClassifier(n_estimators=100, random_state=42)\n",
    "clf_remote.fit(X_train_r, y_train_r)\n",
    "\n",
    "# Predict and Evaluate\n",
    "y_pred_r = clf_remote.predict(X_test_r)\n",
    "print(classification_report(y_test_r, y_pred_r, zero_division=0))\n",
    "\n",
    "# Visualize\n",
    "work_type_counts = df['Work Type'].value_counts()\n",
    "work_type_counts.plot(kind='bar', color=['skyblue', 'lightcoral'])\n",
    "plt.title('Remote vs Onsite Jobs')\n",
    "plt.ylabel('Number of Jobs')\n",
    "plt.grid(axis='y')\n",
    "plt.show()\n"
   ]
  }
 ],
 "metadata": {
  "kernelspec": {
   "display_name": "Python 3 (ipykernel)",
   "language": "python",
   "name": "python3"
  },
  "language_info": {
   "codemirror_mode": {
    "name": "ipython",
    "version": 3
   },
   "file_extension": ".py",
   "mimetype": "text/x-python",
   "name": "python",
   "nbconvert_exporter": "python",
   "pygments_lexer": "ipython3",
   "version": "3.11.5"
  }
 },
 "nbformat": 4,
 "nbformat_minor": 5
}
